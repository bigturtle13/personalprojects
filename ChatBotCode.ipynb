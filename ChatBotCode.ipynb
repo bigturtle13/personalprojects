{
  "nbformat": 4,
  "nbformat_minor": 0,
  "metadata": {
    "colab": {
      "provenance": []
    },
    "kernelspec": {
      "name": "python3",
      "display_name": "Python 3"
    },
    "language_info": {
      "name": "python"
    }
  },
  "cells": [
    {
      "cell_type": "markdown",
      "source": [
        "### Imports\n",
        "Please make sure to run this first to set up the environment. This can take around a few minutes"
      ],
      "metadata": {
        "id": "5s3k1Rbj01Vk"
      }
    },
    {
      "cell_type": "code",
      "execution_count": null,
      "metadata": {
        "id": "kzVs1uOPvwB2",
        "colab": {
          "base_uri": "https://localhost:8080/",
          "height": 54
        },
        "outputId": "61460575-c441-46de-8951-ea4f5b75fa4a"
      },
      "outputs": [
        {
          "output_type": "stream",
          "name": "stderr",
          "text": [
            "WARNING:huggingface_hub.file_download:Xet Storage is enabled for this repo, but the 'hf_xet' package is not installed. Falling back to regular HTTP download. For better performance, install the package with: `pip install huggingface_hub[hf_xet]` or `pip install hf_xet`\n"
          ]
        }
      ],
      "source": [
        "#You do not need to make any changes to this cell, only run the cell by using the button on the left\n",
        "\n",
        "%%capture\n",
        "from sentence_transformers import SentenceTransformer\n",
        "import numpy as np\n",
        "from numpy.linalg import norm\n",
        "model = SentenceTransformer(\"avsolatorio/GIST-large-Embedding-v0\", revision=None)\n",
        "\n",
        "\n",
        "!pip install pymupdf\n",
        "!pip install -q -U google-generativeai\n",
        "!pip install langchain-google-genai\n",
        "!pip install ragas\n",
        "\n",
        "\n",
        "from langchain_text_splitters import RecursiveCharacterTextSplitter, CharacterTextSplitter, TokenTextSplitter\n",
        "import google.generativeai as genai"
      ]
    },
    {
      "cell_type": "code",
      "source": [
        "#You do not need to make any changes to this cell, only run the cell by using the button on the left\n",
        "\n",
        "def cos(A, B, normalize=True): #normalize for cos sim, or do dot product\n",
        "  \"\"\"\n",
        "  returns similarity between 2 vecors using cos sim\n",
        "  \"\"\"\n",
        "  A, B = A, B\n",
        "  if normalize:\n",
        "      return (A @ B.T)/(norm(A)*norm(B))\n",
        "  return A @ B.T\n",
        "\n",
        "def read_file(file):\n",
        "  \"\"\"\n",
        "  read in pdf or txt file\n",
        "  \"\"\"\n",
        "  if file[-3:] == \"txt\":\n",
        "    f = open(file)\n",
        "    return f.read()\n",
        "  elif file[-3:] == \"pdf\":\n",
        "    import pymupdf\n",
        "    text = \"\"\n",
        "    doc = pymupdf.open(file)\n",
        "    for page in doc:\n",
        "      text += page.get_text()\n",
        "    return text\n",
        "\n",
        "  else:\n",
        "    print(\"Please use a pdf or txt file for this task\")\n",
        "    return None\n",
        "\n",
        "\n",
        "def generate(model, GOOGLE_API_KEY, query):\n",
        "    \"\"\"\n",
        "    Creates a call to the API\n",
        "    Takes in a model to choose which API\n",
        "    Returns the updated tokens (int, int) and API response (str)\n",
        "    \"\"\"\n",
        "    if model[0:6] == \"gemini\":\n",
        "        genai.configure(api_key=GOOGLE_API_KEY)\n",
        "        model = genai.GenerativeModel(model)\n",
        "        response = model.generate_content(query)\n",
        "        return response.text\n",
        "\n",
        "    else: raise (f\"Error, model {model} not found\")"
      ],
      "metadata": {
        "id": "M_n6Uz4P9HIn"
      },
      "execution_count": null,
      "outputs": []
    },
    {
      "cell_type": "code",
      "source": [
        "config = {\n",
        "    \"model\": \"gemini-2.0-flash\",  # or other model IDs\n",
        "    \"temperature\": 0.4,\n",
        "    \"max_tokens\": None,\n",
        "    \"top_p\": 0.8,\n",
        "}"
      ],
      "metadata": {
        "id": "1iWPZ9nONtXj"
      },
      "execution_count": null,
      "outputs": []
    },
    {
      "cell_type": "code",
      "source": [],
      "metadata": {
        "id": "NgV9gnu_NKUr"
      },
      "execution_count": null,
      "outputs": []
    },
    {
      "cell_type": "markdown",
      "source": [
        "### 1. Upload a document of your choosing. Try and keep it a reasonable length.\n",
        "\n",
        "\\* To upload files, click the folder icon on the left hand side of the screen and select \"Upload to session storage\".This will only keep the file as long as the session is running so if you come back to this task later, you will need to reupload your files *"
      ],
      "metadata": {
        "id": "VQwJT_6GTZeU"
      }
    },
    {
      "cell_type": "code",
      "source": [
        "# Insert your path here\n",
        "file_path = '/content/tiger sharks.pdf' # From the left window, you can right click to copy the path\n",
        "\n",
        "document = read_file(file_path)"
      ],
      "metadata": {
        "id": "GFWuhhZsSE1r"
      },
      "execution_count": null,
      "outputs": []
    },
    {
      "cell_type": "code",
      "source": [
        "#You do not need to make any changes to this cell, only run the cell by using the button on the left\n",
        "\n",
        "print(document) # Make sure everything looks right"
      ],
      "metadata": {
        "id": "DEnE13F7UGWL",
        "colab": {
          "base_uri": "https://localhost:8080/"
        },
        "outputId": "35bd379c-78cb-4a34-be0d-60eeaf60226e"
      },
      "execution_count": null,
      "outputs": [
        {
          "output_type": "stream",
          "name": "stdout",
          "text": [
            "Tiger shark\n",
            "Temporal range:\n",
            "In The Bahamas\n",
            "Conservation status\n",
            "Near Threatened  (IUCN 3.1)[1]\n",
            "Apparently Secure  (NatureServe)[2]\n",
            "Scientific classification\n",
            "Domain:\n",
            "Eukaryota\n",
            "Kingdom:\n",
            "Animalia\n",
            "Phylum:\n",
            "Chordata\n",
            "Class:\n",
            "Chondrichthyes\n",
            "Subclass:\n",
            "Elasmobranchii\n",
            "Division:\n",
            "Selachii\n",
            "Order:\n",
            "Carcharhiniformes\n",
            "Tiger shark\n",
            "The tiger shark (Galeocerdo cuvier)[3] is a species of\n",
            "ground shark, and the only extant member of the genus\n",
            "Galeocerdo and family Galeocerdonidae. It is a large apex\n",
            "predator, with females capable of attaining a length of over\n",
            "5 m (16 ft 5 in).[4] Populations are found in many tropical and\n",
            "temperate waters, especially around central Pacific islands. Its\n",
            "name derives from the dark stripes down its body, which\n",
            "resemble a tiger's pattern, but fade as the shark matures.[5]\n",
            "The tiger shark is a solitary, mostly nocturnal hunter. It is\n",
            "notable for having the widest food spectrum of all sharks, with\n",
            "a range of prey that includes crustaceans, fish, seals, birds,\n",
            "squid, turtles, sea snakes, dolphins, and others, even smaller\n",
            "sharks. It also has a reputation as a \"garbage eater\",[5]\n",
            "consuming a variety of inedible, man-made objects that linger\n",
            "in its stomach. Tiger sharks have only one recorded natural\n",
            "predator, the orca.[6] It is considered a near-threatened\n",
            "species because of finning and fishing by humans.[1]\n",
            "The tiger shark is second only to the great white in recorded\n",
            "fatal attacks on humans, but these events are still exceedingly\n",
            "rare.[7][8]\n",
            "The shark was first described by Peron and Lesueur in 1822,\n",
            "and was given the name Squalus cuvier.[4] Müller and Henle\n",
            "in 1837 renamed it Galeocerdo tigrinus.[7] The genus,\n",
            "Galeocerdo, is derived from the Greek galeos, which means\n",
            "shark, and kerdo, the word for fox.[7] The species name\n",
            "honors naturalist Georges Cuvier.[4] It is often colloquially\n",
            "called the man-eater shark.[7]\n",
            "The tiger shark is a member of the order Carcharhiniformes,\n",
            "the most species-rich order of sharks, with more than 270\n",
            "species also including the small catsharks and hammerhead\n",
            "sharks.[4] Members of this order are characterized by the\n",
            "presence of a nictitating membrane over the eyes, two dorsal\n",
            "fins, an anal fin, and five gill slits. It is the largest member of\n",
            "Taxonomy\n",
            "5/21/25, 9:39 PM\n",
            "Tiger shark - Wikipedia\n",
            "https://en.wikipedia.org/wiki/Tiger_shark?utm_source=chatgpt.com\n",
            "1/15\n",
            "Family:\n",
            "Galeocerdonidae\n",
            "Genus:\n",
            "Galeocerdo\n",
            "Species:\n",
            "G. cuvier\n",
            "Binomial name\n",
            "Galeocerdo cuvier\n",
            "Péron & Lesueur, 1823\n",
            "Tiger shark range\n",
            "Synonyms\n",
            "Squalus cuvier Peron and\n",
            "Lesueur, 1822\n",
            "Galeocerdo tigrinus Müller and\n",
            "Henle, 1837\n",
            "the order, commonly referred to as ground sharks. It is the\n",
            "only extant member of Galeocerdo, the only member of the\n",
            "family Galeocerdonidae.[9] The oldest remains of Galeocerdo\n",
            "extend back to the Eocene epoch, while the oldest fossils of\n",
            "the modern tiger shark Galeocerdo cuvier date to the Middle\n",
            "Miocene, around 13.8 million years ago.[10]\n",
            "The tiger shark commonly attains an adult length of 3.5  to\n",
            "4.7  m (11  ft 6  in  – 15  ft 5  in) and weighs between 300 and\n",
            "900  kg (700 and 2,000  lb).[11][12] The International Game\n",
            "Fish Association's all-tackle record is 810 kg (1,790 lb).[13] It\n",
            "is sexually dimorphic, with females being the larger sex.\n",
            "Mature females are often over 3.7 m (12 ft 2 in) while mature\n",
            "males rarely get that large.[7][14][15][16] Exceptionally large\n",
            "females reportedly can measure over 5 m (16 ft 5 in), and the\n",
            "largest males 4  m (13  ft 1  in). Weights of particularly large\n",
            "female \n",
            "tiger \n",
            "sharks \n",
            "can \n",
            "exceed \n",
            "1,300 \n",
            "kg\n",
            "(2,900  lb).[15][17][18][12] One pregnant female caught off\n",
            "Australia reportedly measured 5.5  m (18  ft 1  in) long and\n",
            "weighed 1,524 kg (3,360 lb). Even larger unconfirmed catches\n",
            "have been claimed.[19] Some papers have accepted a record of\n",
            "an exceptional 7.4-metre (24 ft 3 in), 3,110-kilogram (6,860 lb) tiger shark, but since this is far larger\n",
            "than any scientifically observed specimen, verification would be needed.[20][21][22] A 2019 study\n",
            "suggested that Pliocene tiger sharks could have reached 8 m (26 ft) in maximum length.[23] There is\n",
            "variation in the speed of growth rates of juvenile tiger sharks depending on the region they inhabit,\n",
            "with some growing close to twice as fast as others.[24]\n",
            "Among the largest extant sharks, the tiger shark ranks in average size only behind the whale shark\n",
            "(Rhincodon typus), the basking shark (Cetorhinus maximus), and the great white shark\n",
            "(Carcharodon carcharias). This makes it the second-largest predatory shark, after the great white.[25]\n",
            "Some other species such as megamouth sharks (Megachasma pelagios), Pacific sleeper sharks\n",
            "(Somniosus pacificus), Greenland sharks (Somniosus microcephalus), and bluntnose sixgill sharks\n",
            "(Hexanchus griseus) broadly overlap in size with the tiger shark, but as these species are\n",
            "comparatively poorly studied, whether their typical mature size matches that of the tiger shark is\n",
            "unclear.[7][19] The great hammerhead (Sphyrna mokarran), a member of the same taxonomic order\n",
            "as the tiger shark, has a similar or even greater average body length, but is lighter and less bulky, with\n",
            "a maximum known weight coming from a heavily pregnant 4.4 m (14 ft) long individual at 580 kg\n",
            "(1,280 lb).[26]\n",
            "Tiger shark teeth are unique with very sharp, pronounced serrations and an unmistakable sideways-\n",
            "pointing tip. Such dentition has developed to slice through flesh, bone, and other tough substances,\n",
            "such as turtle shells. Like most sharks, its teeth are continually replaced by rows of new teeth\n",
            "Description\n",
            "5/21/25, 9:39 PM\n",
            "Tiger shark - Wikipedia\n",
            "https://en.wikipedia.org/wiki/Tiger_shark?utm_source=chatgpt.com\n",
            "2/15\n",
            "throughout the shark's life. Relative to the shark's size, tiger shark teeth are considerably shorter than\n",
            "those of a great white shark, but they are nearly as broad at the root as the great white's teeth and are\n",
            "arguably better suited to slicing through hard-surfaced prey.[27][28]\n",
            "A tiger shark generally has long fins to provide lift as the shark maneuvers through water, while the\n",
            "long upper tail provides bursts of speed. The tiger shark normally swims using small body\n",
            "movements.[29]\n",
            "Jaws\n",
            " \n",
            "Jaws, wide open\n",
            " \n",
            "Upper teeth\n",
            "Lower teeth\n",
            "The skin of a tiger shark can typically range from blue to light green with a white or light-yellow\n",
            "underbelly. The advantage of this is that when it is hunting for its prey, when prey looks at the shark\n",
            "from above, the shark will be camouflaged, since the water below is darker. When prey is below the\n",
            "shark and looks up the light underbelly will also camouflage the shark with the sunlight. This is known\n",
            "as countershading. Dark spots and stripes are most visible in young sharks and fade as the shark\n",
            "matures. Its head is somewhat wedge-shaped, which makes it easy to turn quickly to one side.[5][30]\n",
            "They have small pits on the snout which hold electroreceptors called the ampullae of Lorenzini, which\n",
            "enable them to detect electric fields, including the weak electrical impulses generated by prey, which\n",
            "helps them to hunt.[27] Tiger sharks also have a sensory organ called a lateral line which extends on\n",
            "their flanks down most of the length of their sides. The primary role of this structure is to detect\n",
            "minute vibrations in the water. These adaptations allow the tiger shark to hunt in darkness and detect\n",
            "hidden prey.[31]\n",
            "Skin\n",
            "5/21/25, 9:39 PM\n",
            "Tiger shark - Wikipedia\n",
            "https://en.wikipedia.org/wiki/Tiger_shark?utm_source=chatgpt.com\n",
            "3/15\n",
            "Juvenile tiger shark in the Bahamas\n",
            "Video of juvenile female tiger shark at\n",
            "Lord Howe Island, Australia, from PLOS\n",
            "ONE\n",
            "Sharks do not have moveable upper or lower eyelids, but the tiger shark—among other sharks—has a\n",
            "nictitating membrane, which is a clear eyelid that can cover the eye.[32] A reflective layer behind the\n",
            "tiger shark's retina, called the tapetum lucidum, allows light-sensing cells a second chance to capture\n",
            "photons of visible light. This enhances vision in low-light conditions.[33]\n",
            "The tiger shark is often found close to the coast, mainly in\n",
            "tropical and subtropical waters throughout the world.[7] Its\n",
            "behavior is primarily nomadic, but is guided by warmer\n",
            "currents, and it stays closer to the equator throughout the\n",
            "colder months. It tends to stay in deep waters that line reefs,\n",
            "but it does move into channels to pursue prey in shallower\n",
            "waters. In the western Pacific Ocean, the shark has been found\n",
            "as far north as Japan and as far south as New Zealand.[4] It\n",
            "has also been recorded in the Mediterranean Sea, but rarely,\n",
            "off Malaga (Spain), Sicily (Italy) and Libya.[34]\n",
            "Tiger sharks can be seen in the Gulf of Mexico, North\n",
            "American beaches, and parts of South America. It is also\n",
            "commonly observed in the Caribbean Sea. Other locations\n",
            "where tiger sharks are seen include off Africa, China, India,\n",
            "Australia, and Indonesia.[5] Certain tiger sharks have been\n",
            "recorded at depths just shy of 900 m (3,000 ft).[7]\n",
            "The tiger shark is an apex predator[35] and has a reputation for\n",
            "eating almost anything.[7] These predators swim close inland\n",
            "to eat at night, and during the day swim out into deeper waters.[36] Young tiger sharks are found to\n",
            "feed largely on small fish, as well as various small jellyfish, and mollusks including cephalopods.\n",
            "Around the time they attain 2.3  m (7.5  ft), or near sexual maturity, their selection expands\n",
            "considerably, and much larger animals become regular prey.[37] Numerous fish, mollusks (including\n",
            "gastropods and cephalopods), crustaceans, sea birds, sea snakes,[38] marine mammals (e.g. bottlenose\n",
            "dolphins (Tursiops), common dolphins (Delphinus),[39] spotted dolphins (Stenella),[40] dugongs\n",
            "(Dugong dugon), seals and sea lions), and sea turtles (including the three largest species: the\n",
            "leatherback (Dermochelys coriacea),[41] the loggerhead (Caretta caretta)[42] and the green sea turtles\n",
            "(Chelonia mydas)[37]), are regularly eaten by adult tiger sharks.[43] In fact, adult sea turtles have been\n",
            "found in up to 20.8% of studied tiger shark stomachs, indicating somewhat of a dietary preference for\n",
            "sea turtles where they are commonly encountered.[44] They also eat other sharks (including adult\n",
            "sandbar sharks (Carcharhinus plumbeus)), as well as rays, and sometimes even other tiger\n",
            "sharks.[5][37]\n",
            "Vision\n",
            "Distribution and habitat\n",
            "0:38\n",
            "Feeding\n",
            "5/21/25, 9:39 PM\n",
            "Tiger shark - Wikipedia\n",
            "https://en.wikipedia.org/wiki/Tiger_shark?utm_source=chatgpt.com\n",
            "4/15\n",
            "Due to high risk of predation, dolphins often avoid regions inhabited by tiger sharks.[45][46] Injured or\n",
            "ailing whales may also be attacked and eaten. A group was documented killing an ailing humpback\n",
            "whale (Megaptera novaeangliae) in 2006 near Hawaii.[47] A scavenger, the tiger shark will feed on\n",
            "dead whales, and has been documented doing so alongside great white sharks.[48][49] Tiger sharks\n",
            "have also been observed to feed on dead manta rays in the German Channel of Palau.[50]\n",
            "Evidence of dugong predation was identified in one study that found dugong tissue in 15 of 85 tiger\n",
            "sharks caught off the Australian coast.[51] Additionally, examination of adult dugongs has shown scars\n",
            "from failed shark attacks.[52] To minimize attacks, dugong microhabitats shift similarly to those of\n",
            "known tiger shark prey when the sharks are abundant.[53]\n",
            "The broad, heavily calcified jaws and nearly terminal mouth, combined with robust, serrated teeth,\n",
            "enable the tiger shark to take on these large prey.[45] In addition, excellent eyesight and acute sense of\n",
            "smell enable it to react to faint traces of blood and follow them to the source. The ability to pick up\n",
            "low-frequency pressure waves enables the shark to advance towards an animal with confidence, even\n",
            "in murky water.[29] The shark circles its prey and studies it by prodding it with its snout.[29] When\n",
            "attacking, the shark often eats its prey whole, although larger prey are often eaten in gradual large\n",
            "bites and finished over time.[29]\n",
            "Notably, terrestrial mammals, including horses (Equus ferus caballus), goats (Capra aegagrus\n",
            "hircus), sheep (Ovis aries), dogs (Canis lupus familiaris), cats (Felis catus), and brown rats (Rattus\n",
            "norvegicus), are fairly common in the stomach contents of tiger sharks around the coasts of\n",
            "Hawaii.[37] In one case, remains of two flying foxes were found in the stomach of this shark,[54] and in\n",
            "another, an echidna (Tachyglossus aculeatus) was regurgitated by a tiger shark being tagged off\n",
            "Orpheus Island, Queensland.[55] Because of its aggressive and indiscriminate feeding style, it often\n",
            "mistakenly eats inedible objects, such as automobile license plates, oil cans, tires, and baseballs.[5]\n",
            "Due to their habits of eating essentially anything, Tiger sharks are often referred to as the \"garbage\n",
            "can of the sea\".\n",
            "Tiger sharks are preyed on by orcas. Orcas have been recorded hunting and killing tiger sharks by\n",
            "holding them upside down to induce tonic immobility in order to drown the shark. The orcas bite off\n",
            "the shark's fins before disemboweling and devouring it.[6]\n",
            "All tiger sharks generally swim slowly, which, combined with cryptic coloration, may make them\n",
            "difficult for prey to detect in some habitats. They are especially well camouflaged against dark\n",
            "backgrounds.[45] Despite their sluggish appearance, tiger sharks are one of the strongest swimmers of\n",
            "the carcharhinid sharks. Once the shark has come close, a speed burst allows it to reach the intended\n",
            "prey before it can escape.[45]\n",
            "Predation by orcas\n",
            "Swimming efficiency and stealth\n",
            "5/21/25, 9:39 PM\n",
            "Tiger shark - Wikipedia\n",
            "https://en.wikipedia.org/wiki/Tiger_shark?utm_source=chatgpt.com\n",
            "5/15\n",
            "Males reach sexual maturity at 2.3 to 2.9 m (7.5 to 9.5 ft) and females at 2.5 to 3.5 m (8.2 to 11.5 ft).[27]\n",
            "Typical weight of relatively young sexually mature specimens, which often locally comprise the\n",
            "majority of tiger sharks encountered per game-fishing and scientific studies, is around 80 to 130 kg\n",
            "(180 to 290 lb).[28][56] Females mate once every three years.[5] They breed by internal fertilization.\n",
            "The male inserts one of his claspers into the female's genital opening (cloaca), acting as a guide for the\n",
            "sperm. The male uses his teeth to hold the female still during the procedure, often causing the female\n",
            "considerable discomfort. Mating in the Northern Hemisphere generally takes place between March\n",
            "and May, with birth between April and June the following year. In the Southern Hemisphere, mating\n",
            "takes place in November, December, or early January. The tiger shark is the only species in its family\n",
            "that is ovoviviparous; its eggs hatch internally and the young are born live when fully developed.[7]\n",
            "Tiger Sharks are unique among all sharks in the fact that they employ embrytrophy to nourish their\n",
            "young inside the womb. The young gestate in sacks which are filled with a fluid that nourishes them.\n",
            "This allows for the young to dramatically increase in size, even though they have no placental\n",
            "connection to the mother.[57]\n",
            "The young develop inside the mother's body up to 16 months. Litters range from 10 to 80 pups.[7] A\n",
            "newborn is generally 51 to 76 cm (20 to 30 in) long.[7] How long tiger sharks live is unknown, but they\n",
            "can live longer than 12 years.[5]\n",
            "Tiger shark ontogeny has been little studied until recently, but studies by Hammerschlag et al.,\n",
            "indicated that as they grow, their tails become more symmetrical with age. Additionally, while the\n",
            "heads on juvenile tiger sharks are more conical and similar to requiem sharks, adult tiger sharks have\n",
            "a head which is relatively broader. The reason for the larger caudal fin on juvenile tiger sharks is\n",
            "theorized to be an adaptation to escape predation by larger predators and to catch quicker-moving\n",
            "prey. As tiger sharks mature, their head also becomes much wider and their tails no longer become as\n",
            "large in proportion to their body size as when they are juveniles because they do not face elevated\n",
            "levels of predation risk upon maturity. The results of this study were interpreted as reflecting two\n",
            "ecological transitions: as tiger sharks mature they become more migratory and having a symmetrical\n",
            "tail is more advantageous in long-distance traveling, and that tiger sharks consume more diverse prey\n",
            "items with age, which requires a greater bite force and broader head.[58]\n",
            "The tiger shark is captured and killed for its fins, flesh, and liver. It is caught regularly in target and\n",
            "nontarget fisheries. Several populations have declined where they have been heavily fished. Continued\n",
            "demand for fins may result in further declines. They are considered a near threatened species due to\n",
            "excessive finning and fishing by humans according to International Union for Conservation of\n",
            "Nature.[1] In June 2018, the New Zealand Department of Conservation classified the tiger shark as\n",
            "\"Migrant\" with the qualifier \"Secure Overseas\" under the New Zealand Threat Classification\n",
            "System.[59]\n",
            "Reproduction\n",
            "Ontogeny\n",
            "Conservation\n",
            "5/21/25, 9:39 PM\n",
            "Tiger shark - Wikipedia\n",
            "https://en.wikipedia.org/wiki/Tiger_shark?utm_source=chatgpt.com\n",
            "6/15\n",
            "A large female tiger shark caught in\n",
            "Kaneʻohe Bay, Oʻahu in 1966\n",
            "A female tiger shark pup in the Aquarium\n",
            "of the Pacific's Shark Lagoon exhibit\n",
            "While shark fin has very few nutrients, shark liver has a high\n",
            "concentration of vitamin A, which is used in the production of\n",
            "vitamin oils. In addition, the tiger shark is captured and killed\n",
            "for its distinct skin, as well as by big-game fishers.[7]\n",
            "In 2010, Greenpeace International added the tiger shark to its\n",
            "seafood red list, which is a list of commonly sold fish likely to\n",
            "come from unsustainable fisheries.[60]\n",
            "Although sharks rarely\n",
            "bite humans, the tiger\n",
            "shark is reported to be\n",
            "responsible for a large\n",
            "share of fatal shark-\n",
            "bite incidents, and is\n",
            "regarded as one of the\n",
            "most dangerous shark\n",
            "species.[61][62] \n",
            "They\n",
            "often \n",
            "visit \n",
            "shallow\n",
            "reefs, harbors, and canals, creating the potential for encounter\n",
            "with humans.[5] The tiger shark also dwells in river mouths\n",
            "and other runoff-rich water.[7][27] While it ranks second on\n",
            "the list of number of recorded shark attacks on humans, behind only the great white shark, such\n",
            "attacks are few and very seldom fatal.[7][61] Typically, three to four shark bites occur per year in\n",
            "Hawaii; one notable survivor of such an attack is surfing champion Bethany Hamilton, who lost her\n",
            "left arm at age 13 to a tiger shark in 2003. This bite rate is very low, considering that thousands of\n",
            "people swim, surf, and dive in Hawaiian waters every day.[63] Human interactions with tiger sharks in\n",
            "Hawaiian waters have been shown to increase between September and November, when tiger shark\n",
            "females are believed to migrate to the islands to give birth.[64]\n",
            "On 8 June 2023, a tiger shark attacked and killed a 23-year-old Russian man in the Red Sea off the\n",
            "coast of the Egyptian city of Hurghada. The attack was filmed by onlookers and the recording went\n",
            "viral. The shark was later captured by fishermen and killed. This was the third fatal tiger shark attack\n",
            "in the area since 2022.[65]\n",
            "Between 1959 and 1976, 4,668 tiger sharks were culled in the state of Hawaii in an effort to protect the\n",
            "tourism industry.[66] Despite damaging the shark population, these efforts were shown to be\n",
            "ineffective in decreasing the number of interactions between humans and tiger sharks. Feeding sharks\n",
            "in Hawaii (except for traditional Hawaiian cultural or religious practices) is illegal,[67][68] and\n",
            "interaction with them, such as cage diving, is discouraged. South African shark behaviorist and shark\n",
            "diver Mark Addison demonstrated divers could interact and dive with them outside of a shark cage in\n",
            "Relationship with humans\n",
            "5/21/25, 9:39 PM\n",
            "Tiger shark - Wikipedia\n",
            "https://en.wikipedia.org/wiki/Tiger_shark?utm_source=chatgpt.com\n",
            "7/15\n",
            "Sharks portal\n",
            "a 2007 Discovery Channel special,[69] and underwater photographer Fiona Ayerst swam with them in\n",
            "the Bahamas.[69][70] At \"Tiger Beach\" off Grand Bahama, uncaged diving with – and even the\n",
            "handling of – female tiger sharks has become a routine occurrence.[71]\n",
            "Warming Atlantic Ocean currents have caused tiger shark migration paths to move further north,\n",
            "according to a University of Miami study.[72]\n",
            "Tiger sharks are considered to be sacred ʻaumākua (ancestor spirits) by some native Hawaiians.[73]\n",
            "Tiger sharks possess a unique significance as ʻaumakua, revered as family guardians in Hawaiian\n",
            "culture. The tiger shark, regarded as an intelligent and highly perceptive spiritual entity, assumes the\n",
            "role of a messenger bridging the gap between humans and the divine. In the Hawaiian belief system,\n",
            "ʻaumakua take on various forms, either animals or objects, representing ancestral connections and\n",
            "manifestations of departed family members. This perspective underscores the intricate web of\n",
            "interdependence among plants, animals, elements, and humans, underscoring the imperative to\n",
            "honor and coexist harmoniously with nature.[74]\n",
            "List of sharks\n",
            "List of prehistoric cartilaginous fish genera\n",
            "1. Ferreira, L.C.; Simpfendorfer, C. (2019). \"Galeocerdo cuvier\" (https://www.iucnredlist.org/species/3\n",
            "9378/2913541). IUCN Red List of Threatened Species. 2019: e.T39378A2913541.\n",
            "doi:10.2305/IUCN.UK.2019-1.RLTS.T39378A2913541.en (https://doi.org/10.2305%2FIUCN.UK.20\n",
            "19-1.RLTS.T39378A2913541.en). Retrieved 19 November 2021.\n",
            "2. \"Galeocerdo cuvier\" (https://explorer.natureserve.org/Taxon/ELEMENT_GLOBAL.2.101377/Galeo\n",
            "cerdo_cuvier). NatureServe Explorer. Retrieved 17 April 2024.\n",
            "3. \"ITIS Report – Galeocerdo cuvier\" (https://www.itis.gov/servlet/SingleRpt/SingleRpt?search_topic=\n",
            "TSN&search_value=160189). Integrated Taxonomic Information System!. Archived (https://web.ar\n",
            "chive.org/web/20180303093903/https://www.itis.gov/servlet/SingleRpt/SingleRpt?search_topic=T\n",
            "SN&search_value=160189) from the original on 3 March 2018. Retrieved 30 December 2015.\n",
            "4. Froese, Rainer; Pauly, Daniel (eds.). \"Galeocerdo cuvier\" (http://www.fishbase.org/summary/Speci\n",
            "esSummary.php?genusname=Galeocerdo&speciesname=cuvier). FishBase. July 2011 version.\n",
            "5. Ritter, Erich K. (15 December 1999). \"Fact Sheet: Tiger Sharks\" (http://www.sharkinfo.ch/SI4_99e/\n",
            "gcuvier.html). Shark Info. Archived (https://web.archive.org/web/20090321025033/http://www.shar\n",
            "kinfo.ch/SI4_99e/gcuvier.html) from the original on 21 March 2009. Retrieved 15 May 2009.\n",
            "6. Terrapon, Maeva; Venables, Stephanie K.; Lokker, Anthony; Bertrand, Nils; Hooker, Sascha K.;\n",
            "Marshall, Andrea D. (2024). \"Killer Whale Predation on a Giant Manta Ray (Mobula birostris), a\n",
            "Sicklefin Devil Ray (Mobula tarapacana) and a Tiger Shark (Galeocerdo cuvier) in the Southwest\n",
            "Indian Ocean\" (https://onlinelibrary.wiley.com/doi/full/10.1111/aje.13342). African Journal of\n",
            "Ecology. 62 (4): e13342. doi:10.1111/aje.13342 (https://doi.org/10.1111%2Faje.13342).\n",
            "ISSN 1365-2028 (https://search.worldcat.org/issn/1365-2028).\n",
            "Mythology\n",
            "See also\n",
            "References\n",
            "5/21/25, 9:39 PM\n",
            "Tiger shark - Wikipedia\n",
            "https://en.wikipedia.org/wiki/Tiger_shark?utm_source=chatgpt.com\n",
            "8/15\n",
            "\n"
          ]
        }
      ]
    },
    {
      "cell_type": "markdown",
      "source": [
        "### 2. Chunk your document and create local database"
      ],
      "metadata": {
        "id": "ZfoWn2cgUtby"
      }
    },
    {
      "cell_type": "code",
      "source": [
        "#You do not need to make any changes to this cell, only run the cell by using the button on the left\n",
        "\n",
        "def get_text_splitter(splitter_type=\"character\", chunk_size=1000, chunk_overlap=200):\n",
        "    \"\"\"\n",
        "    Args:\n",
        "        splitter_type (str): The type of text splitter to use ('character', 'recursive', 'token').\n",
        "        chunk_size (int): The maximum size of each text chunk.\n",
        "        chunk_overlap (int): The overlap between text chunks.\n",
        "    \"\"\"\n",
        "    if splitter_type == \"character\":\n",
        "        return CharacterTextSplitter(chunk_size=chunk_size, chunk_overlap=chunk_overlap)\n",
        "    elif splitter_type == \"recursive\":\n",
        "        return RecursiveCharacterTextSplitter(chunk_size=chunk_size, chunk_overlap=chunk_overlap)\n",
        "    elif splitter_type == \"token\":\n",
        "        return TokenTextSplitter(chunk_size=chunk_size)\n",
        "    else:\n",
        "        raise ValueError(\"Invalid splitter type. Choose from 'character', 'recursive', or 'token'.\")\n",
        "\n",
        "\n",
        "def chunk_data(doc, splitter, chunk_size=1000, overlap=50):\n",
        "  splitter = get_text_splitter(splitter, chunk_size=chunk_size, chunk_overlap=overlap)\n",
        "  doc_chunks = splitter.split_text(doc)\n",
        "  documents = splitter.create_documents(doc_chunks)\n",
        "  return documents\n",
        "\n",
        "documents = [i.page_content for i in chunk_data(document, \"recursive\", chunk_size=1000, overlap=50)]"
      ],
      "metadata": {
        "id": "cMd-XoHqU6i0"
      },
      "execution_count": null,
      "outputs": []
    },
    {
      "cell_type": "code",
      "source": [
        "#You do not need to make any changes to this cell, only run the cell by using the button on the left\n",
        "\n",
        "# Ensure chunks look correct\n",
        "print(f\"Split into {len(documents)} chunks\")\n",
        "print(\"Chunk 1: \\n\", documents[0])\n",
        "print(type(documents))"
      ],
      "metadata": {
        "id": "XCBjvknxVP6Q",
        "colab": {
          "base_uri": "https://localhost:8080/"
        },
        "outputId": "29eceb8b-00d5-4aeb-cb36-e4e4a202d41e"
      },
      "execution_count": null,
      "outputs": [
        {
          "output_type": "stream",
          "name": "stdout",
          "text": [
            "Split into 24 chunks\n",
            "Chunk 1: \n",
            " Tiger shark\n",
            "Temporal range:\n",
            "In The Bahamas\n",
            "Conservation status\n",
            "Near Threatened  (IUCN 3.1)[1]\n",
            "Apparently Secure  (NatureServe)[2]\n",
            "Scientific classification\n",
            "Domain:\n",
            "Eukaryota\n",
            "Kingdom:\n",
            "Animalia\n",
            "Phylum:\n",
            "Chordata\n",
            "Class:\n",
            "Chondrichthyes\n",
            "Subclass:\n",
            "Elasmobranchii\n",
            "Division:\n",
            "Selachii\n",
            "Order:\n",
            "Carcharhiniformes\n",
            "Tiger shark\n",
            "The tiger shark (Galeocerdo cuvier)[3] is a species of\n",
            "ground shark, and the only extant member of the genus\n",
            "Galeocerdo and family Galeocerdonidae. It is a large apex\n",
            "predator, with females capable of attaining a length of over\n",
            "5 m (16 ft 5 in).[4] Populations are found in many tropical and\n",
            "temperate waters, especially around central Pacific islands. Its\n",
            "name derives from the dark stripes down its body, which\n",
            "resemble a tiger's pattern, but fade as the shark matures.[5]\n",
            "The tiger shark is a solitary, mostly nocturnal hunter. It is\n",
            "notable for having the widest food spectrum of all sharks, with\n",
            "a range of prey that includes crustaceans, fish, seals, birds,\n",
            "<class 'list'>\n"
          ]
        }
      ]
    },
    {
      "cell_type": "code",
      "source": [
        "#You do not need to make any changes to this cell, only run the cell by using the button on the left\n",
        "\n",
        "#Create local embeddings database\n",
        "#This may take some time if you have many chunks\n",
        "embeddings = np.stack([model.encode(i) for i in documents])\n",
        "print(embeddings.shape) # (num chunks, embed dim)"
      ],
      "metadata": {
        "id": "ClrRnGFNVlTQ",
        "colab": {
          "base_uri": "https://localhost:8080/"
        },
        "outputId": "680cdca4-63de-49b3-f6d7-65893f911c7f"
      },
      "execution_count": null,
      "outputs": [
        {
          "output_type": "stream",
          "name": "stdout",
          "text": [
            "(24, 1024)\n"
          ]
        }
      ]
    },
    {
      "cell_type": "markdown",
      "source": [
        "### 3. Simple RAG setup\n",
        "\n",
        "This function implements the most basic version of RAG. You are welcome to modify the prompt, but it is not required. The function returns both the LLM output as well as the retieved context for use in evaluation."
      ],
      "metadata": {
        "id": "sN7hx2PHavhf"
      }
    },
    {
      "cell_type": "code",
      "source": [
        "#You do not need to make any changes to this cell, only run the cell by using the button on the left\n",
        "\n",
        "def RAG(query, database, embeddings, k=1):\n",
        "  import torch\n",
        "\n",
        "  query_vector = model.encode(query)\n",
        "\n",
        "  context = []\n",
        "  for c in torch.topk(torch.from_numpy(cos(query_vector, embeddings)), k)[1]:\n",
        "    context.append(database[c])\n",
        "\n",
        "  prompt = f'''\n",
        "  You will be given a user query and context. Use the context given to\n",
        "  you to ground your response to answer the user query\n",
        "\n",
        "  USER QUERY: {query}\n",
        "  CONTEXT: {\"\".join(context)}\n",
        "  '''\n",
        "                             #gemini-2.0-flash-lite#\n",
        "  generation = generate(model=\"gemini-2.0-flash\", GOOGLE_API_KEY=os.environ[\"GOOGLE_API_KEY\"], query=prompt)\n",
        "\n",
        "  return context, generation"
      ],
      "metadata": {
        "id": "9E2eT0dfavyq"
      },
      "execution_count": null,
      "outputs": []
    },
    {
      "cell_type": "markdown",
      "source": [
        "## TASK: Using RAGAS to evaluate outputs\n",
        "\n",
        "Before we can evaluate any outputs, RAGAS requires a small amount of setup. First, ensure you gemini API key is connected:"
      ],
      "metadata": {
        "id": "AFDDTvUHSCSF"
      }
    },
    {
      "cell_type": "code",
      "source": [
        "#You do not need to make any changes to this cell, only run the cell by using the button on the left\n",
        "\n",
        "from google.colab import userdata\n",
        "import os\n",
        "\n",
        "os.environ[\"GOOGLE_API_KEY\"] = userdata.get('GOOGLE_API_KEY')"
      ],
      "metadata": {
        "id": "swbMEc8izYhJ"
      },
      "execution_count": null,
      "outputs": []
    },
    {
      "cell_type": "code",
      "source": [
        "#You do not need to make any changes to this cell, only run the cell by using the button on the left\n",
        "\n",
        "from ragas.llms import LangchainLLMWrapper\n",
        "from ragas.embeddings import LangchainEmbeddingsWrapper\n",
        "from langchain_google_genai import ChatGoogleGenerativeAI\n",
        "\n",
        "\n",
        "# Initialize evaluator with Google AI Studio\n",
        "evaluator_llm = LangchainLLMWrapper(ChatGoogleGenerativeAI(\n",
        "    model=config[\"model\"],\n",
        "    temperature=config[\"temperature\"],\n",
        "    max_tokens=config[\"max_tokens\"],\n",
        "    top_p=config[\"top_p\"],\n",
        "))\n",
        "\n",
        "from langchain_google_genai import GoogleGenerativeAIEmbeddings\n",
        "evaluator_embeddings = LangchainEmbeddingsWrapper(GoogleGenerativeAIEmbeddings(\n",
        "    model=\"models/embedding-004\",  # Google's text embedding model\n",
        "    task_type=\"retrieval_document\"  # Optional: specify the task type\n",
        "))"
      ],
      "metadata": {
        "id": "Wc2hhQHizi-K"
      },
      "execution_count": null,
      "outputs": []
    },
    {
      "cell_type": "markdown",
      "source": [
        "### We are now ready to evaluate some outputs!\n",
        "\n",
        "\n",
        "\n",
        "\n"
      ],
      "metadata": {
        "id": "WOepOP0flEj8"
      }
    },
    {
      "cell_type": "code",
      "source": [
        "# Insert your query and your reference here and then run the cells below to check each metric\n",
        "# Repeat for the following 4 unique queries for your database\n",
        "query = \"Do Tiger Sharks attack humans?\"\n",
        "reference=\"Tiger sharks are known to be one of the most dangerous shark species to humans and ranks second on recorded sharks attacks on humans.\"\n",
        "context, generation = RAG(query, documents, embeddings, k=5)\n",
        "print(context)\n",
        "print(generation)"
      ],
      "metadata": {
        "id": "jCnLkVuifO2_",
        "colab": {
          "base_uri": "https://localhost:8080/",
          "height": 72
        },
        "outputId": "573801c6-e1ee-4270-9973-79fd2349af91"
      },
      "execution_count": null,
      "outputs": [
        {
          "output_type": "stream",
          "name": "stdout",
          "text": [
            "['people swim, surf, and dive in Hawaiian waters every day.[63] Human interactions with tiger sharks in\\nHawaiian waters have been shown to increase between September and November, when tiger shark\\nfemales are believed to migrate to the islands to give birth.[64]\\nOn 8 June 2023, a tiger shark attacked and killed a 23-year-old Russian man in the Red Sea off the\\ncoast of the Egyptian city of Hurghada. The attack was filmed by onlookers and the recording went\\nviral. The shark was later captured by fishermen and killed. This was the third fatal tiger shark attack\\nin the area since 2022.[65]\\nBetween 1959 and 1976, 4,668 tiger sharks were culled in the state of Hawaii in an effort to protect the\\ntourism industry.[66] Despite damaging the shark population, these efforts were shown to be\\nineffective in decreasing the number of interactions between humans and tiger sharks. Feeding sharks\\nin Hawaii (except for traditional Hawaiian cultural or religious practices) is illegal,[67][68] and', 'squid, turtles, sea snakes, dolphins, and others, even smaller\\nsharks. It also has a reputation as a \"garbage eater\",[5]\\nconsuming a variety of inedible, man-made objects that linger\\nin its stomach. Tiger sharks have only one recorded natural\\npredator, the orca.[6] It is considered a near-threatened\\nspecies because of finning and fishing by humans.[1]\\nThe tiger shark is second only to the great white in recorded\\nfatal attacks on humans, but these events are still exceedingly\\nrare.[7][8]\\nThe shark was first described by Peron and Lesueur in 1822,\\nand was given the name Squalus cuvier.[4] Müller and Henle\\nin 1837 renamed it Galeocerdo tigrinus.[7] The genus,\\nGaleocerdo, is derived from the Greek galeos, which means\\nshark, and kerdo, the word for fox.[7] The species name\\nhonors naturalist Georges Cuvier.[4] It is often colloquially\\ncalled the man-eater shark.[7]\\nThe tiger shark is a member of the order Carcharhiniformes,\\nthe most species-rich order of sharks, with more than 270', 'where tiger sharks are seen include off Africa, China, India,\\nAustralia, and Indonesia.[5] Certain tiger sharks have been\\nrecorded at depths just shy of 900\\xa0m (3,000\\xa0ft).[7]\\nThe tiger shark is an apex predator[35] and has a reputation for\\neating almost anything.[7] These predators swim close inland\\nto eat at night, and during the day swim out into deeper waters.[36] Young tiger sharks are found to\\nfeed largely on small fish, as well as various small jellyfish, and mollusks including cephalopods.\\nAround the time they attain 2.3\\xa0 m (7.5\\xa0 ft), or near sexual maturity, their selection expands\\nconsiderably, and much larger animals become regular prey.[37] Numerous fish, mollusks (including\\ngastropods and cephalopods), crustaceans, sea birds, sea snakes,[38] marine mammals (e.g. bottlenose\\ndolphins (Tursiops), common dolphins (Delphinus),[39] spotted dolphins (Stenella),[40] dugongs\\n(Dugong dugon), seals and sea lions), and sea turtles (including the three largest species: the', 'seafood red list, which is a list of commonly sold fish likely to\\ncome from unsustainable fisheries.[60]\\nAlthough sharks rarely\\nbite humans, the tiger\\nshark is reported to be\\nresponsible for a large\\nshare of fatal shark-\\nbite incidents, and is\\nregarded as one of the\\nmost dangerous shark\\nspecies.[61][62] \\nThey\\noften \\nvisit \\nshallow\\nreefs, harbors, and canals, creating the potential for encounter\\nwith humans.[5] The tiger shark also dwells in river mouths\\nand other runoff-rich water.[7][27] While it ranks second on\\nthe list of number of recorded shark attacks on humans, behind only the great white shark, such\\nattacks are few and very seldom fatal.[7][61] Typically, three to four shark bites occur per year in\\nHawaii; one notable survivor of such an attack is surfing champion Bethany Hamilton, who lost her\\nleft arm at age 13 to a tiger shark in 2003. This bite rate is very low, considering that thousands of', 'Due to their habits of eating essentially anything, Tiger sharks are often referred to as the \"garbage\\ncan of the sea\".\\nTiger sharks are preyed on by orcas. Orcas have been recorded hunting and killing tiger sharks by\\nholding them upside down to induce tonic immobility in order to drown the shark. The orcas bite off\\nthe shark\\'s fins before disemboweling and devouring it.[6]\\nAll tiger sharks generally swim slowly, which, combined with cryptic coloration, may make them\\ndifficult for prey to detect in some habitats. They are especially well camouflaged against dark\\nbackgrounds.[45] Despite their sluggish appearance, tiger sharks are one of the strongest swimmers of\\nthe carcharhinid sharks. Once the shark has come close, a speed burst allows it to reach the intended\\nprey before it can escape.[45]\\nPredation by orcas\\nSwimming efficiency and stealth\\n5/21/25, 9:39 PM\\nTiger shark - Wikipedia\\nhttps://en.wikipedia.org/wiki/Tiger_shark?utm_source=chatgpt.com\\n5/15']\n",
            "Yes, tiger sharks do attack humans, though such events are still exceedingly rare. They are second only to great white sharks in recorded fatal attacks on humans. Tiger sharks are considered one of the most dangerous shark species and are responsible for a large share of fatal shark-bite incidents.\n"
          ]
        }
      ]
    },
    {
      "cell_type": "code",
      "source": [
        "#IMPLEMENTATION OF Context Precision\n",
        "from ragas import SingleTurnSample\n",
        "from ragas.metrics import LLMContextPrecisionWithoutReference\n",
        "\n",
        "context_precision = LLMContextPrecisionWithoutReference(llm=evaluator_llm)\n",
        "\n",
        "sample = SingleTurnSample(\n",
        "    user_input=query,\n",
        "    response=generation,\n",
        "    retrieved_contexts=context,\n",
        ")\n",
        "await context_precision.single_turn_ascore(sample)"
      ],
      "metadata": {
        "id": "VnBNBgqDz4MS",
        "colab": {
          "base_uri": "https://localhost:8080/"
        },
        "outputId": "74cde744-314f-4172-fcc2-f22f45df3a15"
      },
      "execution_count": null,
      "outputs": [
        {
          "output_type": "execute_result",
          "data": {
            "text/plain": [
              "0.9166666666361111"
            ]
          },
          "metadata": {},
          "execution_count": 46
        }
      ]
    },
    {
      "cell_type": "code",
      "source": [
        "#IMPLEMENTATION OF Context Recall\n",
        "from ragas.dataset_schema import SingleTurnSample\n",
        "from ragas.metrics import LLMContextRecall\n",
        "\n",
        "sample = SingleTurnSample(\n",
        "    user_input=query,\n",
        "    response=generation,\n",
        "    reference=reference,\n",
        "    retrieved_contexts=context,\n",
        ")\n",
        "\n",
        "context_recall = LLMContextRecall(llm=evaluator_llm)\n",
        "await context_recall.single_turn_ascore(sample)"
      ],
      "metadata": {
        "id": "OaLxDgFAoho1",
        "colab": {
          "base_uri": "https://localhost:8080/"
        },
        "outputId": "4280041e-d2bd-410b-a863-748e4a58f6c6"
      },
      "execution_count": null,
      "outputs": [
        {
          "output_type": "execute_result",
          "data": {
            "text/plain": [
              "1.0"
            ]
          },
          "metadata": {},
          "execution_count": 42
        }
      ]
    },
    {
      "cell_type": "code",
      "source": [
        "#IMPLEMENTATION OF Content Entities Recall\n",
        "from ragas import SingleTurnSample\n",
        "from ragas.metrics import ContextEntityRecall\n",
        "\n",
        "sample = SingleTurnSample(\n",
        "    reference=generation,\n",
        "    retrieved_contexts=context,\n",
        ")\n",
        "\n",
        "scorer = ContextEntityRecall(llm=evaluator_llm)\n",
        "\n",
        "await scorer.single_turn_ascore(sample)"
      ],
      "metadata": {
        "id": "6ug4RUlgokGJ",
        "colab": {
          "base_uri": "https://localhost:8080/"
        },
        "outputId": "27c82f4e-5669-4f6a-feaa-bc75523f873c"
      },
      "execution_count": null,
      "outputs": [
        {
          "output_type": "execute_result",
          "data": {
            "text/plain": [
              "0.4999999975"
            ]
          },
          "metadata": {},
          "execution_count": 47
        }
      ]
    },
    {
      "cell_type": "code",
      "source": [
        "#IMPLEMENTATION OF Noise Sensitivity\n",
        "from ragas.dataset_schema import SingleTurnSample\n",
        "from ragas.metrics import NoiseSensitivity\n",
        "\n",
        "sample = SingleTurnSample(\n",
        "    user_input=query,\n",
        "    response=generation,\n",
        "    reference=reference,\n",
        "    retrieved_contexts=context\n",
        ")\n",
        "\n",
        "scorer = NoiseSensitivity(llm=evaluator_llm)\n",
        "await scorer.single_turn_ascore(sample)"
      ],
      "metadata": {
        "id": "Zk3ONDwPna2b",
        "colab": {
          "base_uri": "https://localhost:8080/"
        },
        "outputId": "072d0cb4-77a1-498e-fa30-8a0326676648"
      },
      "execution_count": null,
      "outputs": [
        {
          "output_type": "execute_result",
          "data": {
            "text/plain": [
              "np.float64(0.6)"
            ]
          },
          "metadata": {},
          "execution_count": 48
        }
      ]
    },
    {
      "cell_type": "code",
      "source": [
        "#IMPLEMENTATION OF Faithfulness\n",
        "from ragas.dataset_schema import SingleTurnSample\n",
        "from ragas.metrics import Faithfulness\n",
        "\n",
        "sample = SingleTurnSample(\n",
        "        user_input=query,\n",
        "        response=generation,\n",
        "        retrieved_contexts=context\n",
        "    )\n",
        "scorer = Faithfulness(llm=evaluator_llm)\n",
        "await scorer.single_turn_ascore(sample)"
      ],
      "metadata": {
        "id": "G0PL1fXKncNZ",
        "colab": {
          "base_uri": "https://localhost:8080/"
        },
        "outputId": "a7532be0-4fcc-4a8e-906b-a41d23ca72bf"
      },
      "execution_count": null,
      "outputs": [
        {
          "output_type": "execute_result",
          "data": {
            "text/plain": [
              "0.9"
            ]
          },
          "metadata": {},
          "execution_count": 44
        }
      ]
    }
  ]
}